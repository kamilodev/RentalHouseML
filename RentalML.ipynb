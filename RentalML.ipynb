{
 "cells": [
  {
   "cell_type": "markdown",
   "id": "29ab8531",
   "metadata": {},
   "source": [
    "# <center>House price prediction with machine learning models 🤖</center>"
   ]
  },
  {
   "cell_type": "markdown",
   "id": "29ab8531",
   "metadata": {},
   "source": [
    "![house](image.png)"
   ]
  },
  {
   "cell_type": "markdown",
   "id": "c3d800fe",
   "metadata": {},
   "source": []
  },
  {
   "cell_type": "markdown",
   "id": "6f03d78a",
   "metadata": {},
   "source": [
    "## Contents\n",
    "\n",
    "- [Getting the data](#getting-the-data)\n",
    "- [Data analysis](#data-analysis)\n",
    "- [Data cleaning](#data-cleaning)\n",
    "- [Data visualization](#data-visualization)\n",
    "- [Setting up the models](#setting-up-the-models)\n",
    "- [Training the models](#training-the-models)"
   ]
  },
  {
   "cell_type": "markdown",
   "id": "4e4f97e9",
   "metadata": {},
   "source": [
    "## Data description 📝\n",
    "\n",
    "- `id` - Unique ID for every individual row entry  \n",
    "- `date` - Date the house was sold  \n",
    "- `price` - Price of the house  \n",
    "- `bedrooms` - Number of bedrooms  \n",
    "- `bathrooms` - Number of bathrooms  \n",
    "- `sqft_living` - Square footage of the house  \n",
    "- `sqft_lot` - Square footage of the lot  \n",
    "- `floors` - Number of floors  \n",
    "- `waterfront` - Whether the house has a view to a waterfront  \n",
    "- `view` - How good the view of the property is  \n",
    "- `condition` - Condition of the house  \n",
    "- `grade` - Grade given to the house based on the overall construction and design  \n",
    "- `sqft_above` - Square footage of house apart from the basement  \n",
    "- `sqft_basement` - Square footage of the basement  \n",
    "- `yr_built` - Year the house was built  \n",
    "- `yr_renovated` - Year the house was renovated  \n",
    "- `zipcode` - Zipcode of the house  \n",
    "- `lat` - Latitude coordinate  \n",
    "- `long` - Longitude coordinate  \n",
    "- `sqft_living15` - Living room area in 2015(implies-- some renovations) This might or - might not have affected the lotsize area  \n",
    "- `sqft_lot15` - LotSize area in 2015(implies-- some renovations)  "
   ]
  },
  {
   "cell_type": "markdown",
   "id": "9c5e9581",
   "metadata": {},
   "source": [
    "<hr>"
   ]
  },
  {
   "cell_type": "markdown",
   "id": "0996ce46",
   "metadata": {},
   "source": [
    "## Getting the data\n",
    "\n",
    "Contenido de la sección \"Getting the data\""
   ]
  },
  {
   "cell_type": "markdown",
   "id": "4df85e55",
   "metadata": {},
   "source": [
    "## Data analysis\n",
    "\n",
    "Contenido de la sección \"Data analysis\""
   ]
  },
  {
   "cell_type": "markdown",
   "id": "45ef7979",
   "metadata": {},
   "source": [
    "## Data cleaning\n",
    "\n",
    "Contenido de la sección \"Data cleaning\""
   ]
  },
  {
   "cell_type": "markdown",
   "id": "0e611826",
   "metadata": {},
   "source": [
    "## Data visualization\n",
    "\n",
    "Contenido de la sección \"Data visualization\""
   ]
  },
  {
   "cell_type": "markdown",
   "id": "43f30355",
   "metadata": {},
   "source": [
    "## Setting up the models\n",
    "\n",
    "Contenido de la sección \"Setting up the models\""
   ]
  },
  {
   "cell_type": "markdown",
   "id": "e326210f",
   "metadata": {},
   "source": [
    "## Training the models\n",
    "\n",
    "Contenido de la sección \"Training the models\""
   ]
  },
  {
   "cell_type": "markdown",
   "id": "8b5e9372",
   "metadata": {},
   "source": []
  }
 ],
 "metadata": {
  "kernelspec": {
   "display_name": "Python 3 (ipykernel)",
   "language": "python",
   "name": "python3"
  },
  "language_info": {
   "codemirror_mode": {
    "name": "ipython",
    "version": 3
   },
   "file_extension": ".py",
   "mimetype": "text/x-python",
   "name": "python",
   "nbconvert_exporter": "python",
   "pygments_lexer": "ipython3",
   "version": "3.11.4"
  }
 },
 "nbformat": 4,
 "nbformat_minor": 5
}
